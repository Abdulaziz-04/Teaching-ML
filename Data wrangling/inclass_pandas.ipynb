{
  "cells": [
    {
      "cell_type": "markdown",
      "metadata": {
        "id": "G-plL40lC7Qe"
      },
      "source": [
        "# Pandas"
      ]
    },
    {
      "cell_type": "markdown",
      "metadata": {
        "id": "Tt3svjeSC7Qf"
      },
      "source": [
        "**Pandas** is a Python library that provides extensive capabilities for data analysis. With its help, it is very convenient to load, process and analyze tabular data using SQL-like queries. In conjunction with the Libraries Matplotlib and Seaborn, it is possible to conveniently visually analyze tabular data."
      ]
    },
    {
      "cell_type": "code",
      "execution_count": 1,
      "metadata": {
        "id": "bgq866kNC7Qf"
      },
      "outputs": [],
      "source": [
        "import pandas as pd\n",
        "import numpy as np\n",
        "# magic to display graphs in a notebook\n",
        "%matplotlib inline "
      ]
    },
    {
      "cell_type": "markdown",
      "metadata": {
        "id": "Joc-ND7OC7Qh"
      },
      "source": [
        "At first, it is good to keep a cheat sheet with a set of useful functions at hand"
      ]
    },
    {
      "cell_type": "code",
      "execution_count": null,
      "metadata": {
        "id": "b-ooXY41C7Qh"
      },
      "outputs": [],
      "source": [
        "from IPython.display import Image\n",
        "Image('pandas1.png') "
      ]
    },
    {
      "cell_type": "code",
      "execution_count": null,
      "metadata": {
        "id": "Qej79ft4C7Qi"
      },
      "outputs": [],
      "source": [
        "from IPython.display import Image\n",
        "Image('pandas2.jpg') "
      ]
    },
    {
      "cell_type": "markdown",
      "metadata": {
        "id": "KRDvOsbOC7Qi"
      },
      "source": [
        "The main data structures in Pandas are the Series and DataFrame classes. The first is a one-dimensional indexed data array of some fixed type. The second is a two-dimensional data structure, which is a table, each column of which contains data of the same type. You can represent it as a dictionary of objects of type Series. The DataFrame structure is great for representing real data: rows correspond to characteristic descriptions of individual objects, and columns correspond to characteristics.\n",
        "\n",
        "To begin with, let's consider simple examples of creating such objects and possible operations on them."
      ]
    },
    {
      "cell_type": "markdown",
      "metadata": {
        "id": "5egDT4hgC7Qj"
      },
      "source": [
        "### Series\n",
        "\n",
        "\n",
        "**Create a Series object from 5 elements indexed with letters:**"
      ]
    },
    {
      "cell_type": "code",
      "execution_count": 2,
      "metadata": {
        "colab": {
          "base_uri": "https://localhost:8080/"
        },
        "id": "VHn9YVmNC7Qk",
        "outputId": "6288d4b1-5535-4d17-b26a-0acee07ccab8"
      },
      "outputs": [
        {
          "output_type": "execute_result",
          "data": {
            "text/plain": [
              "Andrew     400\n",
              "Bob        300\n",
              "Charles    200\n",
              "Ann        250\n",
              "dtype: int64"
            ]
          },
          "metadata": {},
          "execution_count": 2
        }
      ],
      "source": [
        "salaries = pd.Series([400, 300, 200, 250], \n",
        "              index = ['Andrew', 'Bob', \n",
        "                       'Charles', 'Ann']) \n",
        "salaries                                                               "
      ]
    },
    {
      "cell_type": "code",
      "execution_count": 3,
      "metadata": {
        "colab": {
          "base_uri": "https://localhost:8080/"
        },
        "id": "bKIh54gzC7Qk",
        "outputId": "1d01ecf8-9ef4-47fd-b2df-8015200cedac"
      },
      "outputs": [
        {
          "output_type": "execute_result",
          "data": {
            "text/plain": [
              "Andrew    400\n",
              "Bob       300\n",
              "dtype: int64"
            ]
          },
          "metadata": {},
          "execution_count": 3
        }
      ],
      "source": [
        "salaries[salaries > 250]"
      ]
    },
    {
      "cell_type": "markdown",
      "metadata": {
        "id": "-Ybf0JKDC7Ql"
      },
      "source": [
        "**Indexing is possible as s.Name or s['Name'].**"
      ]
    },
    {
      "cell_type": "code",
      "execution_count": 4,
      "metadata": {
        "colab": {
          "base_uri": "https://localhost:8080/"
        },
        "id": "e4pXhQNtC7Ql",
        "outputId": "fa58b1bd-56dd-4443-d7a6-bd26ccad84ed"
      },
      "outputs": [
        {
          "output_type": "execute_result",
          "data": {
            "text/plain": [
              "True"
            ]
          },
          "metadata": {},
          "execution_count": 4
        }
      ],
      "source": [
        "salaries.Andrew == salaries['Andrew']"
      ]
    },
    {
      "cell_type": "code",
      "execution_count": 5,
      "metadata": {
        "colab": {
          "base_uri": "https://localhost:8080/"
        },
        "id": "jUk0AncXC7Ql",
        "outputId": "6c8ce86d-6cbb-4d51-9809-8da8683c078e"
      },
      "outputs": [
        {
          "output_type": "execute_result",
          "data": {
            "text/plain": [
              "(400, 400)"
            ]
          },
          "metadata": {},
          "execution_count": 5
        }
      ],
      "source": [
        "salaries['Andrew'], salaries.Andrew"
      ]
    },
    {
      "cell_type": "markdown",
      "metadata": {
        "id": "WY9EwCd2C7Qm"
      },
      "source": [
        "**Series supports data gaps.**"
      ]
    },
    {
      "cell_type": "code",
      "execution_count": 6,
      "metadata": {
        "colab": {
          "base_uri": "https://localhost:8080/"
        },
        "id": "xC8dzhVLC7Qm",
        "outputId": "fb8f878a-e1f4-431a-d443-0fcb2bd12d94"
      },
      "outputs": [
        {
          "output_type": "execute_result",
          "data": {
            "text/plain": [
              "Andrew     400.0\n",
              "Bob        300.0\n",
              "Charles    200.0\n",
              "Ann        250.0\n",
              "Carl         NaN\n",
              "dtype: float64"
            ]
          },
          "metadata": {},
          "execution_count": 6
        }
      ],
      "source": [
        "salaries['Carl'] = np.nan\n",
        "salaries"
      ]
    },
    {
      "cell_type": "code",
      "execution_count": 7,
      "metadata": {
        "colab": {
          "base_uri": "https://localhost:8080/"
        },
        "id": "8KqNMUBbC7Qm",
        "outputId": "e892ad3d-ba5f-4552-be5c-1b9a89d8859d"
      },
      "outputs": [
        {
          "output_type": "execute_result",
          "data": {
            "text/plain": [
              "nan"
            ]
          },
          "metadata": {},
          "execution_count": 7
        }
      ],
      "source": [
        "salaries['Carl']"
      ]
    },
    {
      "cell_type": "code",
      "execution_count": 8,
      "metadata": {
        "colab": {
          "base_uri": "https://localhost:8080/"
        },
        "id": "WnM0ml0DC7Qm",
        "outputId": "78fd7a39-88d5-4f74-8947-ca2e6cfaff41"
      },
      "outputs": [
        {
          "output_type": "execute_result",
          "data": {
            "text/plain": [
              "Andrew     400.0\n",
              "Bob        300.0\n",
              "Charles    200.0\n",
              "Ann        250.0\n",
              "Carl         NaN\n",
              "dtype: float64"
            ]
          },
          "metadata": {},
          "execution_count": 8
        }
      ],
      "source": [
        "salaries"
      ]
    },
    {
      "cell_type": "code",
      "execution_count": 9,
      "metadata": {
        "id": "_3kW8Q8VC7Qn"
      },
      "outputs": [],
      "source": [
        "salaries.fillna(salaries.median(), inplace=True)"
      ]
    },
    {
      "cell_type": "code",
      "execution_count": 10,
      "metadata": {
        "colab": {
          "base_uri": "https://localhost:8080/"
        },
        "id": "UWO28VZEC7Qn",
        "outputId": "6a0f9b83-d23d-435f-93b9-0b85d620ace1"
      },
      "outputs": [
        {
          "output_type": "execute_result",
          "data": {
            "text/plain": [
              "Andrew     400.0\n",
              "Bob        300.0\n",
              "Charles    200.0\n",
              "Ann        250.0\n",
              "Carl       275.0\n",
              "dtype: float64"
            ]
          },
          "metadata": {},
          "execution_count": 10
        }
      ],
      "source": [
        "salaries"
      ]
    },
    {
      "cell_type": "markdown",
      "metadata": {
        "id": "kJRrgm2FC7Qn"
      },
      "source": [
        "**Series objects are similar to ndarray and can be passed as arguments to most functions from Numpy.**"
      ]
    },
    {
      "cell_type": "code",
      "execution_count": 11,
      "metadata": {
        "colab": {
          "base_uri": "https://localhost:8080/"
        },
        "id": "uFxJQBQTC7Qn",
        "outputId": "4aa10d0a-af9d-4f3b-e5e3-1e5c4fb01f25"
      },
      "outputs": [
        {
          "output_type": "stream",
          "name": "stdout",
          "text": [
            "Второй элемент серии 300.0 \n",
            "\n",
            "Andrew     400.0\n",
            "Bob        300.0\n",
            "Charles    200.0\n",
            "dtype: float64 \n",
            "\n",
            "5 Положительных значение\n",
            "\n"
          ]
        }
      ],
      "source": [
        "print('Второй элемент серии', salaries[1], '\\n')\n",
        "# Smart indexing\n",
        "print(salaries[:3], '\\n')\n",
        "print(len(salaries[salaries > 0]), 'Положительных значение\\n')"
      ]
    },
    {
      "cell_type": "code",
      "execution_count": 12,
      "metadata": {
        "colab": {
          "base_uri": "https://localhost:8080/"
        },
        "id": "08zEOMcKC7Qo",
        "outputId": "e66734e1-718b-4465-fe30-79ddd281c7a5"
      },
      "outputs": [
        {
          "output_type": "execute_result",
          "data": {
            "text/plain": [
              "Andrew     400.0\n",
              "Bob        300.0\n",
              "Charles    200.0\n",
              "Ann        250.0\n",
              "Carl       275.0\n",
              "dtype: float64"
            ]
          },
          "metadata": {},
          "execution_count": 12
        }
      ],
      "source": [
        "salaries"
      ]
    },
    {
      "cell_type": "code",
      "execution_count": 13,
      "metadata": {
        "colab": {
          "base_uri": "https://localhost:8080/"
        },
        "id": "x9qYSuFYC7Qo",
        "outputId": "edcf4a77-2b12-43c7-9fca-9b2d76850163"
      },
      "outputs": [
        {
          "output_type": "stream",
          "name": "stdout",
          "text": [
            "Andrew     5.221470e+173\n",
            "Bob        1.942426e+130\n",
            "Charles     7.225974e+86\n",
            "Ann        3.746455e+108\n",
            "Carl       2.697631e+119\n",
            "dtype: float64\n"
          ]
        }
      ],
      "source": [
        "print(np.exp(salaries))"
      ]
    },
    {
      "cell_type": "markdown",
      "metadata": {
        "id": "dl1gvUWnC7Qo"
      },
      "source": [
        "### DataFrame"
      ]
    },
    {
      "cell_type": "markdown",
      "metadata": {
        "id": "5_40xM9nC7Qo"
      },
      "source": [
        "### Create and edit"
      ]
    },
    {
      "cell_type": "markdown",
      "metadata": {
        "id": "dnILk4WzC7Qp"
      },
      "source": [
        "**An alternative way is to create a DataFrame from a numpy dictionary of arrays or lists.**"
      ]
    },
    {
      "cell_type": "code",
      "execution_count": 14,
      "metadata": {
        "colab": {
          "base_uri": "https://localhost:8080/",
          "height": 206
        },
        "id": "LeN6b5cfC7Qp",
        "outputId": "05933132-656f-4074-bea7-740f4205e2ad"
      },
      "outputs": [
        {
          "output_type": "execute_result",
          "data": {
            "text/plain": [
              "          A  B      C\n",
              "0  0.769891  a  False\n",
              "1  0.951775  b  False\n",
              "2  0.910265  c  False\n",
              "3  0.092469  d   True\n",
              "4  0.117180  e   True"
            ],
            "text/html": [
              "\n",
              "  <div id=\"df-ab9b32cb-e8f7-4f74-b2c6-23fa08a033cd\">\n",
              "    <div class=\"colab-df-container\">\n",
              "      <div>\n",
              "<style scoped>\n",
              "    .dataframe tbody tr th:only-of-type {\n",
              "        vertical-align: middle;\n",
              "    }\n",
              "\n",
              "    .dataframe tbody tr th {\n",
              "        vertical-align: top;\n",
              "    }\n",
              "\n",
              "    .dataframe thead th {\n",
              "        text-align: right;\n",
              "    }\n",
              "</style>\n",
              "<table border=\"1\" class=\"dataframe\">\n",
              "  <thead>\n",
              "    <tr style=\"text-align: right;\">\n",
              "      <th></th>\n",
              "      <th>A</th>\n",
              "      <th>B</th>\n",
              "      <th>C</th>\n",
              "    </tr>\n",
              "  </thead>\n",
              "  <tbody>\n",
              "    <tr>\n",
              "      <th>0</th>\n",
              "      <td>0.769891</td>\n",
              "      <td>a</td>\n",
              "      <td>False</td>\n",
              "    </tr>\n",
              "    <tr>\n",
              "      <th>1</th>\n",
              "      <td>0.951775</td>\n",
              "      <td>b</td>\n",
              "      <td>False</td>\n",
              "    </tr>\n",
              "    <tr>\n",
              "      <th>2</th>\n",
              "      <td>0.910265</td>\n",
              "      <td>c</td>\n",
              "      <td>False</td>\n",
              "    </tr>\n",
              "    <tr>\n",
              "      <th>3</th>\n",
              "      <td>0.092469</td>\n",
              "      <td>d</td>\n",
              "      <td>True</td>\n",
              "    </tr>\n",
              "    <tr>\n",
              "      <th>4</th>\n",
              "      <td>0.117180</td>\n",
              "      <td>e</td>\n",
              "      <td>True</td>\n",
              "    </tr>\n",
              "  </tbody>\n",
              "</table>\n",
              "</div>\n",
              "      <button class=\"colab-df-convert\" onclick=\"convertToInteractive('df-ab9b32cb-e8f7-4f74-b2c6-23fa08a033cd')\"\n",
              "              title=\"Convert this dataframe to an interactive table.\"\n",
              "              style=\"display:none;\">\n",
              "        \n",
              "  <svg xmlns=\"http://www.w3.org/2000/svg\" height=\"24px\"viewBox=\"0 0 24 24\"\n",
              "       width=\"24px\">\n",
              "    <path d=\"M0 0h24v24H0V0z\" fill=\"none\"/>\n",
              "    <path d=\"M18.56 5.44l.94 2.06.94-2.06 2.06-.94-2.06-.94-.94-2.06-.94 2.06-2.06.94zm-11 1L8.5 8.5l.94-2.06 2.06-.94-2.06-.94L8.5 2.5l-.94 2.06-2.06.94zm10 10l.94 2.06.94-2.06 2.06-.94-2.06-.94-.94-2.06-.94 2.06-2.06.94z\"/><path d=\"M17.41 7.96l-1.37-1.37c-.4-.4-.92-.59-1.43-.59-.52 0-1.04.2-1.43.59L10.3 9.45l-7.72 7.72c-.78.78-.78 2.05 0 2.83L4 21.41c.39.39.9.59 1.41.59.51 0 1.02-.2 1.41-.59l7.78-7.78 2.81-2.81c.8-.78.8-2.07 0-2.86zM5.41 20L4 18.59l7.72-7.72 1.47 1.35L5.41 20z\"/>\n",
              "  </svg>\n",
              "      </button>\n",
              "      \n",
              "  <style>\n",
              "    .colab-df-container {\n",
              "      display:flex;\n",
              "      flex-wrap:wrap;\n",
              "      gap: 12px;\n",
              "    }\n",
              "\n",
              "    .colab-df-convert {\n",
              "      background-color: #E8F0FE;\n",
              "      border: none;\n",
              "      border-radius: 50%;\n",
              "      cursor: pointer;\n",
              "      display: none;\n",
              "      fill: #1967D2;\n",
              "      height: 32px;\n",
              "      padding: 0 0 0 0;\n",
              "      width: 32px;\n",
              "    }\n",
              "\n",
              "    .colab-df-convert:hover {\n",
              "      background-color: #E2EBFA;\n",
              "      box-shadow: 0px 1px 2px rgba(60, 64, 67, 0.3), 0px 1px 3px 1px rgba(60, 64, 67, 0.15);\n",
              "      fill: #174EA6;\n",
              "    }\n",
              "\n",
              "    [theme=dark] .colab-df-convert {\n",
              "      background-color: #3B4455;\n",
              "      fill: #D2E3FC;\n",
              "    }\n",
              "\n",
              "    [theme=dark] .colab-df-convert:hover {\n",
              "      background-color: #434B5C;\n",
              "      box-shadow: 0px 1px 3px 1px rgba(0, 0, 0, 0.15);\n",
              "      filter: drop-shadow(0px 1px 2px rgba(0, 0, 0, 0.3));\n",
              "      fill: #FFFFFF;\n",
              "    }\n",
              "  </style>\n",
              "\n",
              "      <script>\n",
              "        const buttonEl =\n",
              "          document.querySelector('#df-ab9b32cb-e8f7-4f74-b2c6-23fa08a033cd button.colab-df-convert');\n",
              "        buttonEl.style.display =\n",
              "          google.colab.kernel.accessAllowed ? 'block' : 'none';\n",
              "\n",
              "        async function convertToInteractive(key) {\n",
              "          const element = document.querySelector('#df-ab9b32cb-e8f7-4f74-b2c6-23fa08a033cd');\n",
              "          const dataTable =\n",
              "            await google.colab.kernel.invokeFunction('convertToInteractive',\n",
              "                                                     [key], {});\n",
              "          if (!dataTable) return;\n",
              "\n",
              "          const docLinkHtml = 'Like what you see? Visit the ' +\n",
              "            '<a target=\"_blank\" href=https://colab.research.google.com/notebooks/data_table.ipynb>data table notebook</a>'\n",
              "            + ' to learn more about interactive tables.';\n",
              "          element.innerHTML = '';\n",
              "          dataTable['output_type'] = 'display_data';\n",
              "          await google.colab.output.renderOutput(dataTable, element);\n",
              "          const docLink = document.createElement('div');\n",
              "          docLink.innerHTML = docLinkHtml;\n",
              "          element.appendChild(docLink);\n",
              "        }\n",
              "      </script>\n",
              "    </div>\n",
              "  </div>\n",
              "  "
            ]
          },
          "metadata": {},
          "execution_count": 14
        }
      ],
      "source": [
        "df2 = pd.DataFrame({'A': np.random.random(5), \n",
        "                    'B': ['a', 'b', 'c', 'd', 'e'], \n",
        "                    'C': np.arange(5) > 2})\n",
        "df2"
      ]
    },
    {
      "cell_type": "code",
      "execution_count": 15,
      "metadata": {
        "colab": {
          "base_uri": "https://localhost:8080/"
        },
        "id": "NFKZ6vprC7Qp",
        "outputId": "f6f76a28-3942-4b78-c811-762d0f04ff96"
      },
      "outputs": [
        {
          "output_type": "execute_result",
          "data": {
            "text/plain": [
              "pandas.core.frame.DataFrame"
            ]
          },
          "metadata": {},
          "execution_count": 15
        }
      ],
      "source": [
        "type(df2)"
      ]
    },
    {
      "cell_type": "markdown",
      "metadata": {
        "id": "KY8_NPmbC7Qp"
      },
      "source": [
        "**Accessing elements (or whole chunks of a frame) :**"
      ]
    },
    {
      "cell_type": "code",
      "execution_count": 17,
      "metadata": {
        "colab": {
          "base_uri": "https://localhost:8080/"
        },
        "id": "_Qceji1YC7Qp",
        "outputId": "30e5a4cc-1432-49b5-fba4-19e7e67958d5"
      },
      "outputs": [
        {
          "output_type": "stream",
          "name": "stdout",
          "text": [
            "Item at 3rd position in column 3 =  d \n",
            "\n",
            "          A  B      C\n",
            "1  0.951775  b  False\n",
            "2  0.910265  c  False\n",
            "3  0.092469  d   True\n",
            "4  0.117180  e   True\n"
          ]
        }
      ],
      "source": [
        "print('Item at 3rd position in column 3 = ', df2.at[3, 'B'], '\\n')\n",
        "print(df2.loc[1:4, 'A':'C'])"
      ]
    },
    {
      "cell_type": "markdown",
      "metadata": {
        "id": "0U2QYcM6C7Qp"
      },
      "source": [
        "**Change elements and add new ones:**"
      ]
    },
    {
      "cell_type": "code",
      "execution_count": null,
      "metadata": {
        "id": "vjhpTRYSC7Qp"
      },
      "outputs": [],
      "source": [
        "df2.at[2, 'B'] = 'f'\n",
        "df2"
      ]
    },
    {
      "cell_type": "code",
      "execution_count": null,
      "metadata": {
        "id": "wMIY8MnbC7Qq"
      },
      "outputs": [],
      "source": [
        "df2.loc[4]"
      ]
    },
    {
      "cell_type": "code",
      "execution_count": null,
      "metadata": {
        "id": "8Aq-cxGBC7Qq"
      },
      "outputs": [],
      "source": [
        "df2.loc[5] = [3.1415, 'c', False]\n",
        "df2"
      ]
    },
    {
      "cell_type": "code",
      "execution_count": null,
      "metadata": {
        "id": "q0hffQbhC7Qq"
      },
      "outputs": [],
      "source": [
        "df1 = df2.copy()\n",
        "df1"
      ]
    },
    {
      "cell_type": "code",
      "execution_count": null,
      "metadata": {
        "id": "s0ec8hnOC7Qq"
      },
      "outputs": [],
      "source": [
        "df1.columns = ['A', 'B', 'C']\n",
        "df3 = df1.append(df2)\n",
        "df3"
      ]
    },
    {
      "cell_type": "markdown",
      "metadata": {
        "id": "YA_cbMPuC7Qq"
      },
      "source": [
        "#### Обработка пропущенных значений"
      ]
    },
    {
      "cell_type": "code",
      "execution_count": null,
      "metadata": {
        "id": "lM_RRMmKC7Qq"
      },
      "outputs": [],
      "source": [
        "df1.at['o2', 'A'] = np.nan\n",
        "df1.at['o4', 'C'] = np.nan\n",
        "df1"
      ]
    },
    {
      "cell_type": "markdown",
      "metadata": {
        "id": "obfA1EFWC7Qr"
      },
      "source": [
        "**Булева маска для пропущенных значений (True - там, где был пропуск, иначе - False):**"
      ]
    },
    {
      "cell_type": "code",
      "execution_count": null,
      "metadata": {
        "id": "BEU6QRAXC7Qr"
      },
      "outputs": [],
      "source": [
        "pd.isnull(df1)"
      ]
    },
    {
      "cell_type": "markdown",
      "metadata": {
        "id": "tFmYKu2dC7Qr"
      },
      "source": [
        "**Можно удалить все строки, где есть хотя бы один пропуск.**"
      ]
    },
    {
      "cell_type": "code",
      "execution_count": null,
      "metadata": {
        "id": "ocF6qAHUC7Qr"
      },
      "outputs": [],
      "source": [
        "df1"
      ]
    },
    {
      "cell_type": "code",
      "execution_count": null,
      "metadata": {
        "id": "keZrSo3VC7Qr"
      },
      "outputs": [],
      "source": [
        "df1.dropna(axis=0)"
      ]
    },
    {
      "cell_type": "code",
      "execution_count": null,
      "metadata": {
        "id": "43_kh0R4C7Qr"
      },
      "outputs": [],
      "source": [
        "df1"
      ]
    },
    {
      "cell_type": "code",
      "execution_count": null,
      "metadata": {
        "id": "pi70yBLzC7Qr"
      },
      "outputs": [],
      "source": [
        "df1.shape"
      ]
    },
    {
      "cell_type": "code",
      "execution_count": null,
      "metadata": {
        "id": "PlKTBNKkC7Qr"
      },
      "outputs": [],
      "source": [
        "df1.shape[0]*[0]"
      ]
    },
    {
      "cell_type": "code",
      "execution_count": null,
      "metadata": {
        "id": "50vfFRwHC7Qs"
      },
      "outputs": [],
      "source": [
        "df1['D'] = df1.shape[0]*[np.nan]"
      ]
    },
    {
      "cell_type": "code",
      "execution_count": null,
      "metadata": {
        "id": "4l5-qxwZC7Qs"
      },
      "outputs": [],
      "source": [
        "df1"
      ]
    },
    {
      "cell_type": "code",
      "execution_count": null,
      "metadata": {
        "id": "VN0NSe0eC7Qs"
      },
      "outputs": [],
      "source": [
        "df1.dropna(how='all', axis=1)"
      ]
    },
    {
      "cell_type": "markdown",
      "metadata": {
        "id": "wpzM86tyC7Qs"
      },
      "source": [
        "**Пропуски можно заменить каким-то значением.**"
      ]
    },
    {
      "cell_type": "code",
      "execution_count": null,
      "metadata": {
        "id": "Sfeb2wAhC7Qs"
      },
      "outputs": [],
      "source": [
        "df1.fillna()"
      ]
    },
    {
      "cell_type": "markdown",
      "metadata": {
        "id": "OmpeMPO9C7Qs"
      },
      "source": [
        "## Example of primary data analysis with Pandas"
      ]
    },
    {
      "cell_type": "code",
      "execution_count": 19,
      "metadata": {
        "id": "P3W01o-FC7Qs"
      },
      "outputs": [],
      "source": [
        "import os\n",
        "import pandas as pd"
      ]
    },
    {
      "cell_type": "markdown",
      "metadata": {
        "id": "SYAJUessC7Qs"
      },
      "source": [
        "Let's consider this library on the example of [data](https://www.kaggle.com/c/titanic/data) [competition](https://www.kaggle.com/c/titanic) about the prediction of the fate of the passengers of the titanic liner. There is some information about passengers, according to which it is necessary to predict the survival rate of each of them.\n",
        "* What type of task is this?\n",
        "* What are the objects?\n",
        "* What are the answers?\n",
        "* What are the possible signs? What types are they?"
      ]
    },
    {
      "cell_type": "markdown",
      "metadata": {
        "id": "Ppe9ymFfC7Qt"
      },
      "source": [
        "Скачаем данные:"
      ]
    },
    {
      "cell_type": "code",
      "execution_count": null,
      "metadata": {
        "id": "a54tyND9C7Qt"
      },
      "outputs": [],
      "source": [
        "pass_data = pd.read_csv('titanic.csv', sep='\\t')"
      ]
    },
    {
      "cell_type": "markdown",
      "metadata": {
        "id": "Ar6rrbuHC7Qt"
      },
      "source": [
        "The data is a table where the row is the object and the column is the feature. To save space, you can display a specified number of the first lines of the object using the head() method:"
      ]
    },
    {
      "cell_type": "code",
      "execution_count": null,
      "metadata": {
        "id": "-pO7TkFgC7Qt"
      },
      "outputs": [],
      "source": [
        "pass_data.tail(10)"
      ]
    },
    {
      "cell_type": "code",
      "execution_count": null,
      "metadata": {
        "id": "300rATIXC7Qt"
      },
      "outputs": [],
      "source": [
        "pass_data.head(3)"
      ]
    },
    {
      "cell_type": "code",
      "execution_count": null,
      "metadata": {
        "id": "fBl-wcuCC7Qt"
      },
      "outputs": [],
      "source": [
        "pass_data"
      ]
    },
    {
      "cell_type": "markdown",
      "metadata": {
        "id": "edysMRB3C7Qt"
      },
      "source": [
        "Let's look at the signs:"
      ]
    },
    {
      "cell_type": "code",
      "execution_count": null,
      "metadata": {
        "id": "ApbyjAWoC7Qt"
      },
      "outputs": [],
      "source": [
        "pass_data.columns"
      ]
    },
    {
      "cell_type": "markdown",
      "metadata": {
        "id": "3VzfyVglC7Qu"
      },
      "source": [
        "In this notebook we thought that the column names begin with a small letter, and in the data the first letter is capitalized, we will have to correct:"
      ]
    },
    {
      "cell_type": "code",
      "execution_count": null,
      "metadata": {
        "id": "Z1ABVnRfC7Qu"
      },
      "outputs": [],
      "source": [
        "pass_data.info()"
      ]
    },
    {
      "cell_type": "code",
      "execution_count": null,
      "metadata": {
        "id": "IGHS_sIMC7Qu"
      },
      "outputs": [],
      "source": [
        "pass_data = pass_data.rename(str.lower, axis=\"columns\")"
      ]
    },
    {
      "cell_type": "markdown",
      "metadata": {
        "id": "gc6PxppxC7Qu"
      },
      "source": [
        "The data can be indexed using row/column numbers or feature names:"
      ]
    },
    {
      "cell_type": "code",
      "execution_count": null,
      "metadata": {
        "id": "XC5Ypa75C7Qu"
      },
      "outputs": [],
      "source": [
        "pass_data[2:5]"
      ]
    },
    {
      "cell_type": "code",
      "execution_count": null,
      "metadata": {
        "id": "mgztuE-xC7Qu"
      },
      "outputs": [],
      "source": [
        "pass_data.iloc[1:5, 1:3]"
      ]
    },
    {
      "cell_type": "code",
      "execution_count": null,
      "metadata": {
        "id": "uBv3Gk2gC7Qu"
      },
      "outputs": [],
      "source": [
        "pass_data.loc[1:5, \"survived\":\"pclass\"]"
      ]
    },
    {
      "cell_type": "code",
      "execution_count": null,
      "metadata": {
        "id": "5qg0e2DGC7Qu"
      },
      "outputs": [],
      "source": [
        "pass_data['name'].head()"
      ]
    },
    {
      "cell_type": "code",
      "execution_count": null,
      "metadata": {
        "id": "ZpiRmXqIC7Qu"
      },
      "outputs": [],
      "source": [
        "pass_data[['name', 'sex', 'pclass']].head()"
      ]
    },
    {
      "cell_type": "markdown",
      "metadata": {
        "id": "NMdKDlk-C7Qu"
      },
      "source": [
        "There is also logical indexing, which allows you to consider certain groups of objects:"
      ]
    },
    {
      "cell_type": "code",
      "execution_count": null,
      "metadata": {
        "id": "vjbpBRdEC7Qv"
      },
      "outputs": [],
      "source": [
        "pass_data[pass_data['sex'] == 'female'].head() # females on board"
      ]
    },
    {
      "cell_type": "code",
      "execution_count": null,
      "metadata": {
        "id": "11kXSPgrC7Qv"
      },
      "outputs": [],
      "source": [
        "pass_data.shape"
      ]
    },
    {
      "cell_type": "code",
      "execution_count": null,
      "metadata": {
        "id": "ugDHrcVeC7Qv"
      },
      "outputs": [],
      "source": [
        "# TASK: Bring women over 60 and men on board\n",
        "# Your code is here"
      ]
    },
    {
      "cell_type": "markdown",
      "metadata": {
        "id": "EEWZueAnC7Qv"
      },
      "source": [
        "& - and, | - or"
      ]
    },
    {
      "cell_type": "code",
      "execution_count": null,
      "metadata": {
        "id": "pbghQ7H6C7Qv"
      },
      "outputs": [],
      "source": [
        ""
      ]
    },
    {
      "cell_type": "code",
      "execution_count": null,
      "metadata": {
        "id": "VRs_uqeFC7Qv"
      },
      "outputs": [],
      "source": [
        "# TASK: Smlottrim, bortu bыlo relative molodыh ginseng,\n",
        "# Pussy-shtitch in odinochku It's all over the world, it's very small,\n",
        "# He's a duck in a tacoe dlyte, molodыh devushek, i've never let go of the rest of my life.\n",
        "# Your code\n",
        "#"
      ]
    },
    {
      "cell_type": "code",
      "execution_count": null,
      "metadata": {
        "id": "bdbNaFYfC7Qv"
      },
      "outputs": [],
      "source": [
        ""
      ]
    },
    {
      "cell_type": "markdown",
      "metadata": {
        "id": "6DNWmJgZC7Qv"
      },
      "source": [
        "In addition, for a given feature, you can build a histogram:"
      ]
    },
    {
      "cell_type": "code",
      "execution_count": null,
      "metadata": {
        "id": "mDsTG_NLC7Qv"
      },
      "outputs": [],
      "source": [
        "pass_data.age.hist(bins = 10)"
      ]
    },
    {
      "cell_type": "markdown",
      "metadata": {
        "id": "3x8jBF7nC7Qv"
      },
      "source": [
        "## Editing a DataFrame"
      ]
    },
    {
      "cell_type": "markdown",
      "metadata": {
        "id": "Ce_ea3SyC7Qw"
      },
      "source": [
        "* Renaming features"
      ]
    },
    {
      "cell_type": "code",
      "execution_count": null,
      "metadata": {
        "id": "UEjRmLP5C7Qw"
      },
      "outputs": [],
      "source": [
        "pass_data.rename(columns={'sex': 'Sex'}, inplace=True)\n",
        "pass_data.head()"
      ]
    },
    {
      "cell_type": "markdown",
      "metadata": {
        "id": "PRZD7nwFC7Qw"
      },
      "source": [
        "* Apply a transform to an existing feature. For example, let's highlight the surname:"
      ]
    },
    {
      "cell_type": "code",
      "execution_count": null,
      "metadata": {
        "id": "2hc9BSOaC7Qw"
      },
      "outputs": [],
      "source": [
        "# TASK: написать функцию возвращающее фамилию\n",
        "def get_last_name():\n",
        "    pass"
      ]
    },
    {
      "cell_type": "code",
      "execution_count": null,
      "metadata": {
        "id": "mgAWcUr0C7Qw"
      },
      "outputs": [],
      "source": [
        ""
      ]
    },
    {
      "cell_type": "markdown",
      "metadata": {
        "id": "iUNN8CKYC7Qw"
      },
      "source": [
        "* Add a feature"
      ]
    },
    {
      "cell_type": "code",
      "execution_count": null,
      "metadata": {
        "id": "z75LKda8C7Qw"
      },
      "outputs": [],
      "source": [
        "pass_data['Last_name'] = last_names\n",
        "pass_data.head()"
      ]
    },
    {
      "cell_type": "markdown",
      "metadata": {
        "id": "QNOfgtGzC7Qw"
      },
      "source": [
        "* Remove a feature"
      ]
    },
    {
      "cell_type": "code",
      "execution_count": null,
      "metadata": {
        "id": "YyDUWf8vC7Qw"
      },
      "outputs": [],
      "source": [
        "pass_data.drop('Last_name', axis=1).head()"
      ]
    },
    {
      "cell_type": "code",
      "execution_count": null,
      "metadata": {
        "id": "hA9Ujn2TC7Qw"
      },
      "outputs": [],
      "source": [
        "pass_data.head()"
      ]
    },
    {
      "cell_type": "code",
      "execution_count": null,
      "metadata": {
        "id": "peTFIeD3C7Qx"
      },
      "outputs": [],
      "source": [
        "pass_data.drop('Last_name', axis=1, inplace=True)\n",
        "pass_data.head()"
      ]
    },
    {
      "cell_type": "markdown",
      "metadata": {
        "id": "TUKy1RS_C7Qx"
      },
      "source": [
        "* Working with missed data"
      ]
    },
    {
      "cell_type": "code",
      "execution_count": null,
      "metadata": {
        "id": "ZWAiO1sdC7Qx"
      },
      "outputs": [],
      "source": [
        "pass_data.info()"
      ]
    },
    {
      "cell_type": "markdown",
      "metadata": {
        "id": "dCDu0LUCC7Qx"
      },
      "source": [
        "\n",
        "The isnull() and notnull() methods allow you to get a binary array that reflects the absence or presence of data for each of the objects, respectively:"
      ]
    },
    {
      "cell_type": "code",
      "execution_count": null,
      "metadata": {
        "id": "PiiCGaVnC7Qx"
      },
      "outputs": [],
      "source": [
        "pass_data['cabin'].isnull().head()\n",
        "\n",
        "pass_data[pass_data['cabin'].notnull()].head() # passengers with a known evacuation boat number"
      ]
    },
    {
      "cell_type": "markdown",
      "metadata": {
        "id": "uE_RKQRbC7Qx"
      },
      "source": [
        "* Sorting objects/features"
      ]
    },
    {
      "cell_type": "code",
      "execution_count": null,
      "metadata": {
        "id": "LalM3k5HC7Qx"
      },
      "outputs": [],
      "source": [
        "pass_data.sort_values(by=['pclass', 'fare'], ascending=True).head()"
      ]
    },
    {
      "cell_type": "code",
      "execution_count": null,
      "metadata": {
        "id": "67y4B0XqC7Qx"
      },
      "outputs": [],
      "source": [
        "pass_data.sort_values(by=['pclass', 'fare'], ascending=[True, False]).head()"
      ]
    },
    {
      "cell_type": "markdown",
      "metadata": {
        "id": "TNm7k4-SC7Qx"
      },
      "source": [
        "## Grouping data"
      ]
    },
    {
      "cell_type": "markdown",
      "metadata": {
        "id": "FSLm60hLC7Qy"
      },
      "source": [
        "Grouping using the groupby method allows you to combine data into groups by one or more characteristics and calculate common statistics on them."
      ]
    },
    {
      "cell_type": "code",
      "execution_count": null,
      "metadata": {
        "id": "59mJlN1fC7Qy"
      },
      "outputs": [],
      "source": [
        "pass_data.groupby('Sex') # partitioning of all objects into 2 groups by gender"
      ]
    },
    {
      "cell_type": "code",
      "execution_count": null,
      "metadata": {
        "id": "ZCHpAz4fC7Qy"
      },
      "outputs": [],
      "source": [
        "pass_data.groupby('Sex')['pclass'].value_counts()"
      ]
    },
    {
      "cell_type": "code",
      "execution_count": null,
      "metadata": {
        "id": "lqXpf5vZC7Qy"
      },
      "outputs": [],
      "source": [
        "pass_data.groupby('pclass')['fare'].describe()"
      ]
    },
    {
      "cell_type": "code",
      "execution_count": null,
      "metadata": {
        "id": "9sCM9SOVC7Qy"
      },
      "outputs": [],
      "source": [
        "pass_data.groupby('Sex')['age'].mean() # average age for passengers of each of the sexes"
      ]
    },
    {
      "cell_type": "markdown",
      "metadata": {
        "id": "ntfH8JPdC7Qy"
      },
      "source": [
        "As you know, women and children were the first to be rescued in order to upgrade the class, so the proportion of surviving women is likely to be higher than the proportion of surviving men. Check:"
      ]
    },
    {
      "cell_type": "code",
      "execution_count": null,
      "metadata": {
        "id": "1mHL5poCC7Qy"
      },
      "outputs": [],
      "source": [
        "pass_data.groupby('Sex')['survived'].mean()"
      ]
    },
    {
      "cell_type": "markdown",
      "metadata": {
        "id": "MhuHrIvFC7Qy"
      },
      "source": [
        "Similarly for passengers of different classes:"
      ]
    },
    {
      "cell_type": "code",
      "execution_count": null,
      "metadata": {
        "id": "lCNSPOqqC7Qy"
      },
      "outputs": [],
      "source": [
        "pass_data.groupby('pclass')[['survived', 'age']].mean()"
      ]
    },
    {
      "cell_type": "markdown",
      "metadata": {
        "id": "KqyfATyKC7Qz"
      },
      "source": [
        "The statistical data discussed above can also be considered in the form of a standard DataFrame:"
      ]
    },
    {
      "cell_type": "code",
      "execution_count": null,
      "metadata": {
        "id": "VzCjMiEnC7Qz"
      },
      "outputs": [],
      "source": [
        "pass_data.groupby('Sex', as_index=False)['survived'].mean()"
      ]
    },
    {
      "cell_type": "markdown",
      "metadata": {
        "id": "9VlyixvyC7Qz"
      },
      "source": [
        "## Data retention\n",
        "\n",
        "You can also save the data to a file:"
      ]
    },
    {
      "cell_type": "code",
      "execution_count": null,
      "metadata": {
        "id": "TgejlU7RC7Qz"
      },
      "outputs": [],
      "source": [
        "pass_data.to_csv('titanic_2.csv', index=False)"
      ]
    },
    {
      "cell_type": "markdown",
      "metadata": {
        "id": "qn4lRodtC7Qz"
      },
      "source": [
        "# Try yourself"
      ]
    },
    {
      "cell_type": "code",
      "execution_count": null,
      "metadata": {
        "id": "iR1zfyTeC7Qz"
      },
      "outputs": [],
      "source": [
        "data = {'animal': ['cat', 'cat', 'snake', 'dog', 'dog', 'cat', 'snake', 'cat', 'dog', 'dog'],\n",
        "        'age': [2.5, 3, 0.5, np.nan, 5, 2, 4.5, np.nan, 7, 3],\n",
        "        'visits': [1, 3, 2, 3, 2, 3, 1, 1, 2, 1],\n",
        "        'priority': ['yes', 'yes', 'no', 'yes', 'no', 'no', 'no', 'yes', 'no', 'no']}\n",
        "\n",
        "labels = ['a', 'b', 'c', 'd', 'e', 'f', 'g', 'h', 'i', 'j']\n"
      ]
    },
    {
      "cell_type": "code",
      "execution_count": null,
      "metadata": {
        "id": "2Jsva6YQC7Qz"
      },
      "outputs": [],
      "source": [
        "# 1. create dataframe\n",
        "# Your code is here"
      ]
    },
    {
      "cell_type": "code",
      "execution_count": null,
      "metadata": {
        "id": "KIU5O2A8C7Qz"
      },
      "outputs": [],
      "source": [
        ""
      ]
    },
    {
      "cell_type": "code",
      "execution_count": null,
      "metadata": {
        "id": "hku_k7ySC7Qz"
      },
      "outputs": [],
      "source": [
        "# Display the first 3 lines\n",
        "# Your code is here"
      ]
    },
    {
      "cell_type": "code",
      "execution_count": null,
      "metadata": {
        "id": "p-dqBuUEC7Q0"
      },
      "outputs": [],
      "source": [
        "# Display values where age is missing\n",
        "# Your code is here"
      ]
    },
    {
      "cell_type": "code",
      "execution_count": null,
      "metadata": {
        "id": "ovsU6JzKC7Q0"
      },
      "outputs": [],
      "source": [
        ""
      ]
    },
    {
      "cell_type": "code",
      "execution_count": null,
      "metadata": {
        "id": "Z6X10eYlC7Q0"
      },
      "outputs": [],
      "source": [
        "# Print the amount of all visits\n",
        "# Your code is here"
      ]
    },
    {
      "cell_type": "code",
      "execution_count": null,
      "metadata": {
        "id": "J9WRjmErC7Q0"
      },
      "outputs": [],
      "source": [
        "# Count the number of each type in the animal column\n",
        "# Your code is here"
      ]
    }
  ],
  "metadata": {
    "kernelspec": {
      "display_name": "Python 3",
      "language": "python",
      "name": "python3"
    },
    "language_info": {
      "codemirror_mode": {
        "name": "ipython",
        "version": 3
      },
      "file_extension": ".py",
      "mimetype": "text/x-python",
      "name": "python",
      "nbconvert_exporter": "python",
      "pygments_lexer": "ipython3",
      "version": "3.7.4"
    },
    "colab": {
      "name": "inclass_pandas.ipynb",
      "provenance": []
    }
  },
  "nbformat": 4,
  "nbformat_minor": 0
}