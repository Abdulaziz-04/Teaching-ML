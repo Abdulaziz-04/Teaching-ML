{
  "cells": [
    {
      "cell_type": "code",
      "execution_count": null,
      "metadata": {
        "id": "0LtE33TiSL59",
        "outputId": "abecceb1-ece7-4cf6-ac2e-97a5ec8d5fa6"
      },
      "outputs": [
        {
          "data": {
            "text/html": [
              "        <script type=\"text/javascript\">\n",
              "        window.PlotlyConfig = {MathJaxConfig: 'local'};\n",
              "        if (window.MathJax) {MathJax.Hub.Config({SVG: {font: \"STIX-Web\"}});}\n",
              "        if (typeof require !== 'undefined') {\n",
              "        require.undef(\"plotly\");\n",
              "        requirejs.config({\n",
              "            paths: {\n",
              "                'plotly': ['https://cdn.plot.ly/plotly-2.4.2.min']\n",
              "            }\n",
              "        });\n",
              "        require(['plotly'], function(Plotly) {\n",
              "            window._Plotly = Plotly;\n",
              "        });\n",
              "        }\n",
              "        </script>\n",
              "        "
            ]
          },
          "metadata": {},
          "output_type": "display_data"
        }
      ],
      "source": [
        "import numpy as np # linear algebra\n",
        "import pandas as pd # data processing, CSV file I/O (e.g. pd.read_csv)\n",
        "from plotly.offline import init_notebook_mode, iplot, plot\n",
        "import plotly as py\n",
        "init_notebook_mode(connected=True)\n",
        "import plotly.graph_objs as go\n",
        "import plotly.express as px\n",
        "\n",
        "\n",
        "import matplotlib.pyplot as plt\n",
        "import os"
      ]
    },
    {
      "cell_type": "markdown",
      "metadata": {
        "id": "dCTjBtYqSL6A"
      },
      "source": [
        "# Requirements: \n",
        "- all graphs should have signatures chere title, legend, etc...\n",
        "- Make sure that after saving the laptop the graphics are still visible, if you open the laptop \n",
        "- Can indulge with colors to be **B E A T I F U L**, but **not tear out**, please"
      ]
    },
    {
      "cell_type": "code",
      "execution_count": null,
      "metadata": {
        "id": "amNYrOb0SL6C"
      },
      "outputs": [],
      "source": [
        "df = pd.read_csv('data.csv', index_col = 0)"
      ]
    },
    {
      "cell_type": "code",
      "execution_count": null,
      "metadata": {
        "id": "hHa2Zh8YSL6C",
        "outputId": "bddfc88e-db5c-487c-c0b7-0466b5bb6e9a"
      },
      "outputs": [
        {
          "name": "stdout",
          "output_type": "stream",
          "text": [
            "<class 'pandas.core.frame.DataFrame'>\n",
            "Int64Index: 18207 entries, 0 to 18206\n",
            "Data columns (total 88 columns):\n",
            " #   Column                    Non-Null Count  Dtype  \n",
            "---  ------                    --------------  -----  \n",
            " 0   ID                        18207 non-null  int64  \n",
            " 1   Name                      18207 non-null  object \n",
            " 2   Age                       18207 non-null  int64  \n",
            " 3   Photo                     18207 non-null  object \n",
            " 4   Nationality               18207 non-null  object \n",
            " 5   Flag                      18207 non-null  object \n",
            " 6   Overall                   18207 non-null  int64  \n",
            " 7   Potential                 18207 non-null  int64  \n",
            " 8   Club                      17966 non-null  object \n",
            " 9   Club Logo                 18207 non-null  object \n",
            " 10  Value                     18207 non-null  object \n",
            " 11  Wage                      18207 non-null  object \n",
            " 12  Special                   18207 non-null  int64  \n",
            " 13  Preferred Foot            18159 non-null  object \n",
            " 14  International Reputation  18159 non-null  float64\n",
            " 15  Weak Foot                 18159 non-null  float64\n",
            " 16  Skill Moves               18159 non-null  float64\n",
            " 17  Work Rate                 18159 non-null  object \n",
            " 18  Body Type                 18159 non-null  object \n",
            " 19  Real Face                 18159 non-null  object \n",
            " 20  Position                  18147 non-null  object \n",
            " 21  Jersey Number             18147 non-null  float64\n",
            " 22  Joined                    16654 non-null  object \n",
            " 23  Loaned From               1264 non-null   object \n",
            " 24  Contract Valid Until      17918 non-null  object \n",
            " 25  Height                    18159 non-null  object \n",
            " 26  Weight                    18159 non-null  object \n",
            " 27  LS                        16122 non-null  object \n",
            " 28  ST                        16122 non-null  object \n",
            " 29  RS                        16122 non-null  object \n",
            " 30  LW                        16122 non-null  object \n",
            " 31  LF                        16122 non-null  object \n",
            " 32  CF                        16122 non-null  object \n",
            " 33  RF                        16122 non-null  object \n",
            " 34  RW                        16122 non-null  object \n",
            " 35  LAM                       16122 non-null  object \n",
            " 36  CAM                       16122 non-null  object \n",
            " 37  RAM                       16122 non-null  object \n",
            " 38  LM                        16122 non-null  object \n",
            " 39  LCM                       16122 non-null  object \n",
            " 40  CM                        16122 non-null  object \n",
            " 41  RCM                       16122 non-null  object \n",
            " 42  RM                        16122 non-null  object \n",
            " 43  LWB                       16122 non-null  object \n",
            " 44  LDM                       16122 non-null  object \n",
            " 45  CDM                       16122 non-null  object \n",
            " 46  RDM                       16122 non-null  object \n",
            " 47  RWB                       16122 non-null  object \n",
            " 48  LB                        16122 non-null  object \n",
            " 49  LCB                       16122 non-null  object \n",
            " 50  CB                        16122 non-null  object \n",
            " 51  RCB                       16122 non-null  object \n",
            " 52  RB                        16122 non-null  object \n",
            " 53  Crossing                  18159 non-null  float64\n",
            " 54  Finishing                 18159 non-null  float64\n",
            " 55  HeadingAccuracy           18159 non-null  float64\n",
            " 56  ShortPassing              18159 non-null  float64\n",
            " 57  Volleys                   18159 non-null  float64\n",
            " 58  Dribbling                 18159 non-null  float64\n",
            " 59  Curve                     18159 non-null  float64\n",
            " 60  FKAccuracy                18159 non-null  float64\n",
            " 61  LongPassing               18159 non-null  float64\n",
            " 62  BallControl               18159 non-null  float64\n",
            " 63  Acceleration              18159 non-null  float64\n",
            " 64  SprintSpeed               18159 non-null  float64\n",
            " 65  Agility                   18159 non-null  float64\n",
            " 66  Reactions                 18159 non-null  float64\n",
            " 67  Balance                   18159 non-null  float64\n",
            " 68  ShotPower                 18159 non-null  float64\n",
            " 69  Jumping                   18159 non-null  float64\n",
            " 70  Stamina                   18159 non-null  float64\n",
            " 71  Strength                  18159 non-null  float64\n",
            " 72  LongShots                 18159 non-null  float64\n",
            " 73  Aggression                18159 non-null  float64\n",
            " 74  Interceptions             18159 non-null  float64\n",
            " 75  Positioning               18159 non-null  float64\n",
            " 76  Vision                    18159 non-null  float64\n",
            " 77  Penalties                 18159 non-null  float64\n",
            " 78  Composure                 18159 non-null  float64\n",
            " 79  Marking                   18159 non-null  float64\n",
            " 80  StandingTackle            18159 non-null  float64\n",
            " 81  SlidingTackle             18159 non-null  float64\n",
            " 82  GKDiving                  18159 non-null  float64\n",
            " 83  GKHandling                18159 non-null  float64\n",
            " 84  GKKicking                 18159 non-null  float64\n",
            " 85  GKPositioning             18159 non-null  float64\n",
            " 86  GKReflexes                18159 non-null  float64\n",
            " 87  Release Clause            16643 non-null  object \n",
            "dtypes: float64(38), int64(5), object(45)\n",
            "memory usage: 12.9+ MB\n"
          ]
        }
      ],
      "source": [
        "df.info()"
      ]
    },
    {
      "cell_type": "code",
      "execution_count": null,
      "metadata": {
        "id": "frmZMHIaSL6C",
        "outputId": "4b52726e-3c70-4664-c0aa-16255d610865"
      },
      "outputs": [
        {
          "data": {
            "text/plain": [
              "Index(['ID', 'Name', 'Age', 'Photo', 'Nationality', 'Flag', 'Overall',\n",
              "       'Potential', 'Club', 'Club Logo', 'Value', 'Wage', 'Special',\n",
              "       'Preferred Foot', 'International Reputation', 'Weak Foot',\n",
              "       'Skill Moves', 'Work Rate', 'Body Type', 'Real Face', 'Position',\n",
              "       'Jersey Number', 'Joined', 'Loaned From', 'Contract Valid Until',\n",
              "       'Height', 'Weight', 'LS', 'ST', 'RS', 'LW', 'LF', 'CF', 'RF', 'RW',\n",
              "       'LAM', 'CAM', 'RAM', 'LM', 'LCM', 'CM', 'RCM', 'RM', 'LWB', 'LDM',\n",
              "       'CDM', 'RDM', 'RWB', 'LB', 'LCB', 'CB', 'RCB', 'RB', 'Crossing',\n",
              "       'Finishing', 'HeadingAccuracy', 'ShortPassing', 'Volleys', 'Dribbling',\n",
              "       'Curve', 'FKAccuracy', 'LongPassing', 'BallControl', 'Acceleration',\n",
              "       'SprintSpeed', 'Agility', 'Reactions', 'Balance', 'ShotPower',\n",
              "       'Jumping', 'Stamina', 'Strength', 'LongShots', 'Aggression',\n",
              "       'Interceptions', 'Positioning', 'Vision', 'Penalties', 'Composure',\n",
              "       'Marking', 'StandingTackle', 'SlidingTackle', 'GKDiving', 'GKHandling',\n",
              "       'GKKicking', 'GKPositioning', 'GKReflexes', 'Release Clause'],\n",
              "      dtype='object')"
            ]
          },
          "execution_count": 15,
          "metadata": {},
          "output_type": "execute_result"
        }
      ],
      "source": [
        "df.columns"
      ]
    },
    {
      "cell_type": "code",
      "execution_count": null,
      "metadata": {
        "id": "ZjETeQHMSL6D",
        "outputId": "7cd55504-f65f-4fa6-9bd8-0d878de63d19"
      },
      "outputs": [
        {
          "data": {
            "text/html": [
              "<div>\n",
              "<style scoped>\n",
              "    .dataframe tbody tr th:only-of-type {\n",
              "        vertical-align: middle;\n",
              "    }\n",
              "\n",
              "    .dataframe tbody tr th {\n",
              "        vertical-align: top;\n",
              "    }\n",
              "\n",
              "    .dataframe thead th {\n",
              "        text-align: right;\n",
              "    }\n",
              "</style>\n",
              "<table border=\"1\" class=\"dataframe\">\n",
              "  <thead>\n",
              "    <tr style=\"text-align: right;\">\n",
              "      <th></th>\n",
              "      <th>Wage</th>\n",
              "    </tr>\n",
              "  </thead>\n",
              "  <tbody>\n",
              "    <tr>\n",
              "      <th>0</th>\n",
              "      <td>€565K</td>\n",
              "    </tr>\n",
              "    <tr>\n",
              "      <th>1</th>\n",
              "      <td>€405K</td>\n",
              "    </tr>\n",
              "    <tr>\n",
              "      <th>2</th>\n",
              "      <td>€290K</td>\n",
              "    </tr>\n",
              "    <tr>\n",
              "      <th>3</th>\n",
              "      <td>€260K</td>\n",
              "    </tr>\n",
              "    <tr>\n",
              "      <th>4</th>\n",
              "      <td>€355K</td>\n",
              "    </tr>\n",
              "    <tr>\n",
              "      <th>5</th>\n",
              "      <td>€340K</td>\n",
              "    </tr>\n",
              "    <tr>\n",
              "      <th>6</th>\n",
              "      <td>€420K</td>\n",
              "    </tr>\n",
              "    <tr>\n",
              "      <th>7</th>\n",
              "      <td>€455K</td>\n",
              "    </tr>\n",
              "    <tr>\n",
              "      <th>8</th>\n",
              "      <td>€380K</td>\n",
              "    </tr>\n",
              "    <tr>\n",
              "      <th>9</th>\n",
              "      <td>€94K</td>\n",
              "    </tr>\n",
              "  </tbody>\n",
              "</table>\n",
              "</div>"
            ],
            "text/plain": [
              "    Wage\n",
              "0  €565K\n",
              "1  €405K\n",
              "2  €290K\n",
              "3  €260K\n",
              "4  €355K\n",
              "5  €340K\n",
              "6  €420K\n",
              "7  €455K\n",
              "8  €380K\n",
              "9   €94K"
            ]
          },
          "execution_count": 42,
          "metadata": {},
          "output_type": "execute_result"
        }
      ],
      "source": [
        "df[['Wage']].head(10)"
      ]
    },
    {
      "cell_type": "markdown",
      "metadata": {
        "id": "EdFf1IvHSL6D"
      },
      "source": [
        "# Fill in the gaps in the approvals\n",
        "\n",
        "- In the dataset there are [] variables\n",
        "\n",
        "- Of these, numeric []"
      ]
    },
    {
      "cell_type": "markdown",
      "metadata": {
        "id": "-lJbskF8SL6E"
      },
      "source": [
        "# Explore the distribution of growths using Age [px.histogram](https://plotly.com/python/histograms/), learn [more advanced methods](https://plotly.com/python/distplot/) visualization of distributions"
      ]
    },
    {
      "cell_type": "code",
      "execution_count": null,
      "metadata": {
        "id": "LyHv66UCSL6E"
      },
      "outputs": [],
      "source": [
        "# Your beautiful and the best code is here"
      ]
    },
    {
      "cell_type": "markdown",
      "metadata": {
        "id": "wVM-_OJcSL6F"
      },
      "source": [
        "# Visualize the dependecies between left-handed and right-handed people (? find the necessary column in the data yourself, believe that left-handed right-handed ~ preferred foot for blows)"
      ]
    },
    {
      "cell_type": "code",
      "execution_count": null,
      "metadata": {
        "id": "vA8N5TIUSL6F"
      },
      "outputs": [],
      "source": [
        "# Your ingenious code here"
      ]
    },
    {
      "cell_type": "markdown",
      "metadata": {
        "id": "GHh4wVizSL6F"
      },
      "source": [
        "# Visualize the International Reputation, is it associated with nationality? a football club?\n",
        "\n",
        "![Players](Players.png \"Title\")\n"
      ]
    },
    {
      "cell_type": "code",
      "execution_count": null,
      "metadata": {
        "id": "MLcdbjjGSL6G"
      },
      "outputs": [],
      "source": [
        ""
      ]
    },
    {
      "cell_type": "markdown",
      "metadata": {
        "id": "Ed-mDbs-SL6G"
      },
      "source": [
        "# Is there a relationship between Potential and the International Reputation? Visualize it. Does the playing leg affect the potential? Why might this happen? (picture to topic)\n",
        "\n",
        "![Coazuation or correlation?](causuation.png \"???\")"
      ]
    },
    {
      "cell_type": "code",
      "execution_count": null,
      "metadata": {
        "id": "gF5ViYQ_SL6G"
      },
      "outputs": [],
      "source": [
        ""
      ]
    },
    {
      "cell_type": "markdown",
      "metadata": {
        "id": "7EIyY1KGSL6H"
      },
      "source": [
        "# Now let's go through the players' performance...\n",
        "### Is there a dependence of Stamina and Strength of players? Which? exactly an dependency?"
      ]
    },
    {
      "cell_type": "code",
      "source": [
        ""
      ],
      "metadata": {
        "id": "PXjjEmkTTQ65"
      },
      "execution_count": null,
      "outputs": []
    },
    {
      "cell_type": "markdown",
      "metadata": {
        "id": "SLJMAM5ZSL6H"
      },
      "source": [
        "# Does a Player's Value depend on a Player's 'Skill Moves'?"
      ]
    },
    {
      "cell_type": "code",
      "source": [
        ""
      ],
      "metadata": {
        "id": "Hl9GjZFOTiPM"
      },
      "execution_count": null,
      "outputs": []
    },
    {
      "cell_type": "markdown",
      "metadata": {
        "id": "jJo_4C22SL6H"
      },
      "source": [
        "# Show the distribution of the main characteristics of the players: Height, Weight, Age by position (Position), write conclusions...\n"
      ]
    },
    {
      "cell_type": "code",
      "execution_count": null,
      "metadata": {
        "id": "JC1ZX8arSL6I"
      },
      "outputs": [],
      "source": [
        "# ... "
      ]
    },
    {
      "cell_type": "markdown",
      "metadata": {
        "id": "OstMuuW0SL6I"
      },
      "source": [
        "# Is there a dependence of speed (SprintSpeed) on weight and height? And from nationality?"
      ]
    },
    {
      "cell_type": "code",
      "execution_count": null,
      "metadata": {
        "id": "KTsExsHwSL6I"
      },
      "outputs": [],
      "source": [
        ""
      ]
    },
    {
      "cell_type": "markdown",
      "metadata": {
        "id": "MYT5QnaySL6I"
      },
      "source": [
        "# Under what numbers do strikers most often play? Visualize frequency  "
      ]
    },
    {
      "cell_type": "code",
      "execution_count": null,
      "metadata": {
        "id": "uYoFVZvoSL6I"
      },
      "outputs": [],
      "source": [
        "# leeeeeeeeeeeeeeeeeeeeeeeeeeeeeeeeet's go"
      ]
    },
    {
      "cell_type": "markdown",
      "metadata": {
        "id": "zjQIpp0USL6J"
      },
      "source": [
        "\n",
        "# Is there a dependence of **shotpower** on **leading leg**? from **aggression** (Aggression)?\n"
      ]
    },
    {
      "cell_type": "code",
      "execution_count": null,
      "metadata": {
        "id": "lQk9KlyBSL6J"
      },
      "outputs": [],
      "source": [
        "# lelelelelelet's gooooooooooo"
      ]
    },
    {
      "cell_type": "markdown",
      "metadata": {
        "id": "qO-RgkVWSL6J"
      },
      "source": [
        "# Find the total cost of players in each club. Visualize the ratio of somaric value of the top 10 clubs."
      ]
    },
    {
      "cell_type": "code",
      "execution_count": null,
      "metadata": {
        "id": "AUJs7Gn9SL6J"
      },
      "outputs": [],
      "source": [
        "# good luck....."
      ]
    },
    {
      "cell_type": "markdown",
      "metadata": {
        "id": "1bvYyeFySL6J"
      },
      "source": [
        "# Is there a dependence between the duration of the player’s contract and his value?"
      ]
    },
    {
      "cell_type": "code",
      "execution_count": null,
      "metadata": {
        "id": "lMTuzDPbSL6J"
      },
      "outputs": [],
      "source": [
        ""
      ]
    },
    {
      "cell_type": "markdown",
      "metadata": {
        "id": "vhA84UxzSL6J"
      },
      "source": [
        "# In what year will there be the most free players in the market (based on this data)? Visualize dependency"
      ]
    },
    {
      "cell_type": "code",
      "execution_count": null,
      "metadata": {
        "id": "l63lmfuxSL6K"
      },
      "outputs": [],
      "source": [
        ""
      ]
    },
    {
      "cell_type": "markdown",
      "metadata": {
        "id": "ERsuC32dSL6K"
      },
      "source": [
        "# Is there a potential dependency of the player on age? Do young players always have a lot of potential?"
      ]
    },
    {
      "cell_type": "code",
      "execution_count": null,
      "metadata": {
        "id": "oTi3DT64SL6K"
      },
      "outputs": [],
      "source": [
        ""
      ]
    },
    {
      "cell_type": "markdown",
      "metadata": {
        "id": "62-z-thLSL6K"
      },
      "source": [
        "\n",
        "# Is there a dependence of the player's rating (Overall) on age? When are the 'peak' of their careers? Which players are the most with a rating of 90+?"
      ]
    },
    {
      "cell_type": "code",
      "execution_count": null,
      "metadata": {
        "id": "sFdH7_-KSL6K"
      },
      "outputs": [],
      "source": [
        ""
      ]
    },
    {
      "cell_type": "markdown",
      "metadata": {
        "id": "WD_10Q1MSL6K"
      },
      "source": [
        "# How much is the average salary (Wage) of players with a rating (Overall) 90+ higher than the average salary with a rating of [80 - 90]? Visualize a possible dependency"
      ]
    },
    {
      "cell_type": "code",
      "execution_count": null,
      "metadata": {
        "id": "eBDJXaNGSL6K"
      },
      "outputs": [],
      "source": [
        ""
      ]
    }
  ],
  "metadata": {
    "interpreter": {
      "hash": "38cca0c38332a56087b24af0bc80247f4fced29cb4f7f437d91dc159adec9c4e"
    },
    "kernelspec": {
      "display_name": "Python 3.8.8 64-bit ('base': conda)",
      "name": "python3"
    },
    "language_info": {
      "codemirror_mode": {
        "name": "ipython",
        "version": 3
      },
      "file_extension": ".py",
      "mimetype": "text/x-python",
      "name": "python",
      "nbconvert_exporter": "python",
      "pygments_lexer": "ipython3",
      "version": "3.8.8"
    },
    "orig_nbformat": 4,
    "colab": {
      "name": "fifaeda.ipynb",
      "provenance": []
    }
  },
  "nbformat": 4,
  "nbformat_minor": 0
}