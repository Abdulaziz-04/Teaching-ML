{
  "cells": [
    {
      "cell_type": "markdown",
      "metadata": {
        "id": "FotnMFYZMBdA"
      },
      "source": [
        "#  Data Wrangling.Basics of working with vector data and visualization. NumPy"
      ]
    },
    {
      "cell_type": "markdown",
      "metadata": {
        "id": "ivznZCcoMBdD"
      },
      "source": [
        "## Example tasks"
      ]
    },
    {
      "cell_type": "markdown",
      "metadata": {
        "id": "9l_OaUfYMBdE"
      },
      "source": [
        "Let's look at an example of solving one of the problems on the kaggle website and try to analyze it."
      ]
    },
    {
      "cell_type": "markdown",
      "metadata": {
        "id": "OZM6HIUZMBdE"
      },
      "source": [
        "https://www.kaggle.com/madhulekha/a-comprehensive-solution-to-your-first-ml-problem"
      ]
    },
    {
      "cell_type": "markdown",
      "metadata": {
        "id": "S0cM60e6MBdF"
      },
      "source": [
        " As you can see, data exploration and feature generation takes up a large part of the solution. It is ok."
      ]
    },
    {
      "cell_type": "markdown",
      "metadata": {
        "id": "6M6tao43MBdF"
      },
      "source": [
        "## Numpy"
      ]
    },
    {
      "cell_type": "markdown",
      "metadata": {
        "id": "xzaptjVLMBdF"
      },
      "source": [
        "Let's briefly remind why do we use NumPy instead of built-in arrays"
      ]
    },
    {
      "cell_type": "code",
      "execution_count": 1,
      "metadata": {
        "id": "yxddpTS-MBdG"
      },
      "outputs": [],
      "source": [
        "import numpy as np"
      ]
    },
    {
      "cell_type": "code",
      "execution_count": 2,
      "metadata": {
        "colab": {
          "base_uri": "https://localhost:8080/"
        },
        "id": "iN21rX3lMBdH",
        "outputId": "da6c69c1-f71f-41d4-93ee-4067c2dc9d6e"
      },
      "outputs": [
        {
          "output_type": "stream",
          "name": "stdout",
          "text": [
            "1000 loops, best of 5: 288 µs per loop\n"
          ]
        }
      ],
      "source": [
        "%timeit [i**2 for i in range(1000)]"
      ]
    },
    {
      "cell_type": "code",
      "execution_count": 3,
      "metadata": {
        "colab": {
          "base_uri": "https://localhost:8080/"
        },
        "id": "TrW-9G8YMBdH",
        "outputId": "ac6e485e-9c8c-46e0-fb06-4a38fef8df20"
      },
      "outputs": [
        {
          "output_type": "stream",
          "name": "stdout",
          "text": [
            "The slowest run took 2453.22 times longer than the fastest. This could mean that an intermediate result is being cached.\n",
            "100000 loops, best of 5: 3.16 µs per loop\n"
          ]
        }
      ],
      "source": [
        "%timeit np.arange(1000)**2"
      ]
    },
    {
      "cell_type": "markdown",
      "metadata": {
        "id": "He6mVNTUMBdI"
      },
      "source": [
        "The difference is significant"
      ]
    },
    {
      "cell_type": "markdown",
      "metadata": {
        "id": "rkX6qg9bMBdJ"
      },
      "source": [
        "http://www.numpy.org"
      ]
    },
    {
      "cell_type": "markdown",
      "metadata": {
        "id": "XNHfENEdMBdJ"
      },
      "source": [
        "### Cheat sheet"
      ]
    },
    {
      "cell_type": "markdown",
      "metadata": {
        "id": "yBokPpzvMBdK"
      },
      "source": [
        "Numpy has a large set of standard functions that help you implement even the most complex operations. In order not to waste time writing your own functions, it will be useful to have a cheat sheet with the main useful"
      ]
    },
    {
      "cell_type": "code",
      "execution_count": null,
      "metadata": {
        "id": "yqTG1Gy6MBdK"
      },
      "outputs": [],
      "source": [
        "from IPython.display import Image\n",
        "Image('numpy.png') "
      ]
    },
    {
      "cell_type": "code",
      "execution_count": null,
      "metadata": {
        "id": "bYyNlukXMBdK"
      },
      "outputs": [],
      "source": [
        "# some jupyter tricks - double tab, you can call the documentation\n",
        "# np."
      ]
    },
    {
      "cell_type": "code",
      "execution_count": null,
      "metadata": {
        "id": "RS3Vt3SgMBdK"
      },
      "outputs": [],
      "source": [
        "a = np.array([1,3,4,5])\n",
        "a"
      ]
    },
    {
      "cell_type": "markdown",
      "metadata": {
        "id": "t_GArpeQMBdL"
      },
      "source": [
        "see the dimension of the array"
      ]
    },
    {
      "cell_type": "code",
      "execution_count": null,
      "metadata": {
        "id": "R8U3AhBuMBdL"
      },
      "outputs": [],
      "source": [
        "a.ndim"
      ]
    },
    {
      "cell_type": "code",
      "execution_count": null,
      "metadata": {
        "id": "LeuwI9T6MBdL"
      },
      "outputs": [],
      "source": [
        "# TASK: create a two-dimensional/three-dimensional array\n",
        "# Your code is here"
      ]
    },
    {
      "cell_type": "code",
      "execution_count": null,
      "metadata": {
        "id": "UTll0wSAMBdL"
      },
      "outputs": [],
      "source": [
        "b = np.array([[1,3,4,5],[1,3,4,5]])\n",
        "b"
      ]
    },
    {
      "cell_type": "markdown",
      "metadata": {
        "id": "_wOx57cmMBdO"
      },
      "source": [
        "### Basic NumPy Data Types"
      ]
    },
    {
      "cell_type": "code",
      "execution_count": 4,
      "metadata": {
        "id": "p7Nxb2QRMBdO"
      },
      "outputs": [],
      "source": [
        "import numpy as np"
      ]
    },
    {
      "cell_type": "code",
      "execution_count": 5,
      "metadata": {
        "colab": {
          "base_uri": "https://localhost:8080/"
        },
        "id": "4o2aAgfvMBdO",
        "outputId": "47603f3b-ee96-4e36-aa0a-0d0a17f1da8c"
      },
      "outputs": [
        {
          "output_type": "execute_result",
          "data": {
            "text/plain": [
              "dtype('int64')"
            ]
          },
          "metadata": {},
          "execution_count": 5
        }
      ],
      "source": [
        "a = np.array([1, 2, 3])\n",
        "a.dtype"
      ]
    },
    {
      "cell_type": "markdown",
      "metadata": {
        "id": "XxwrgwMfMBdO"
      },
      "source": [
        "A dot after the number means that this is the 'float64' data type"
      ]
    },
    {
      "cell_type": "code",
      "execution_count": 6,
      "metadata": {
        "colab": {
          "base_uri": "https://localhost:8080/"
        },
        "id": "eTHHlLkdMBdP",
        "outputId": "f3effa06-f434-436c-88c5-910d1c1ebb87"
      },
      "outputs": [
        {
          "output_type": "execute_result",
          "data": {
            "text/plain": [
              "dtype('float64')"
            ]
          },
          "metadata": {},
          "execution_count": 6
        }
      ],
      "source": [
        "b = np.array([1., 2., 3.])\n",
        "b.dtype"
      ]
    },
    {
      "cell_type": "code",
      "execution_count": 7,
      "metadata": {
        "colab": {
          "base_uri": "https://localhost:8080/"
        },
        "id": "ralOLEADMBdP",
        "outputId": "90a29778-64fd-4513-bbce-498e8ed1ad99"
      },
      "outputs": [
        {
          "output_type": "execute_result",
          "data": {
            "text/plain": [
              "dtype('<U21')"
            ]
          },
          "metadata": {},
          "execution_count": 7
        }
      ],
      "source": [
        "c = np.array([\"1\", 2, 3])\n",
        "c.dtype"
      ]
    },
    {
      "cell_type": "code",
      "execution_count": 8,
      "metadata": {
        "colab": {
          "base_uri": "https://localhost:8080/",
          "height": 35
        },
        "id": "gKGhzJoTMBdP",
        "outputId": "bf7e8a3d-aa49-4294-d9e9-c7ec9e393c34"
      },
      "outputs": [
        {
          "output_type": "execute_result",
          "data": {
            "text/plain": [
              "'2'"
            ],
            "application/vnd.google.colaboratory.intrinsic+json": {
              "type": "string"
            }
          },
          "metadata": {},
          "execution_count": 8
        }
      ],
      "source": [
        "c[1]"
      ]
    },
    {
      "cell_type": "code",
      "execution_count": 9,
      "metadata": {
        "colab": {
          "base_uri": "https://localhost:8080/"
        },
        "id": "gFEr1xR9MBdP",
        "outputId": "3c482e7d-883a-4abe-ae13-fe2f73674f1b"
      },
      "outputs": [
        {
          "output_type": "execute_result",
          "data": {
            "text/plain": [
              "array([[1., 1., 1.],\n",
              "       [1., 1., 1.],\n",
              "       [1., 1., 1.]])"
            ]
          },
          "metadata": {},
          "execution_count": 9
        }
      ],
      "source": [
        "a = np.ones((3, 3))\n",
        "a"
      ]
    },
    {
      "cell_type": "code",
      "execution_count": 10,
      "metadata": {
        "colab": {
          "base_uri": "https://localhost:8080/"
        },
        "id": "5Fb64y1pMBdP",
        "outputId": "bfa448a4-cf6c-4ac4-b3c8-ee6d128b4ef7"
      },
      "outputs": [
        {
          "output_type": "execute_result",
          "data": {
            "text/plain": [
              "array([[1., 1., 1.],\n",
              "       [1., 1., 1.],\n",
              "       [1., 1., 1.]])"
            ]
          },
          "metadata": {},
          "execution_count": 10
        }
      ],
      "source": [
        "a"
      ]
    },
    {
      "cell_type": "markdown",
      "metadata": {
        "id": "jLp-J612MBdP"
      },
      "source": [
        "Other data types:\n",
        "\n",
        "- Complex numbers"
      ]
    },
    {
      "cell_type": "code",
      "execution_count": 11,
      "metadata": {
        "colab": {
          "base_uri": "https://localhost:8080/"
        },
        "id": "lidsjjykMBdP",
        "outputId": "f31c7b09-e7d6-4d3b-9e2d-1f25118999d1"
      },
      "outputs": [
        {
          "output_type": "execute_result",
          "data": {
            "text/plain": [
              "dtype('complex128')"
            ]
          },
          "metadata": {},
          "execution_count": 11
        }
      ],
      "source": [
        "d = np.array([1+2j, 3+4j, 5+6*1j])\n",
        "d.dtype"
      ]
    },
    {
      "cell_type": "markdown",
      "metadata": {
        "id": "SMxR5Qm3MBdQ"
      },
      "source": [
        " - Bool"
      ]
    },
    {
      "cell_type": "code",
      "execution_count": 12,
      "metadata": {
        "colab": {
          "base_uri": "https://localhost:8080/"
        },
        "id": "WAcicJW6MBdQ",
        "outputId": "e683f7f1-b051-4ecd-fd62-668173caddc4"
      },
      "outputs": [
        {
          "output_type": "execute_result",
          "data": {
            "text/plain": [
              "dtype('bool')"
            ]
          },
          "metadata": {},
          "execution_count": 12
        }
      ],
      "source": [
        "e = np.array([True, False, False, True])\n",
        "e.dtype"
      ]
    },
    {
      "cell_type": "markdown",
      "metadata": {
        "id": "w5AIV8-FMBdQ"
      },
      "source": [
        "- Strings\n",
        "\n",
        "On a line, memory is allocated 'greedily' - according to the maximum number of letters in the line.\n",
        "In this example, 7 letters are allocated for each row, and the data type is 'U7'"
      ]
    },
    {
      "cell_type": "code",
      "execution_count": 13,
      "metadata": {
        "colab": {
          "base_uri": "https://localhost:8080/"
        },
        "id": "sEkzI-jYMBdQ",
        "outputId": "cf034696-3c05-4264-f0b4-6b820da46498"
      },
      "outputs": [
        {
          "output_type": "stream",
          "name": "stderr",
          "text": [
            "/usr/local/lib/python3.7/dist-packages/ipykernel_launcher.py:1: VisibleDeprecationWarning: Creating an ndarray from ragged nested sequences (which is a list-or-tuple of lists-or-tuples-or ndarrays with different lengths or shapes) is deprecated. If you meant to do this, you must specify 'dtype=object' when creating the ndarray.\n",
            "  \"\"\"Entry point for launching an IPython kernel.\n"
          ]
        },
        {
          "output_type": "execute_result",
          "data": {
            "text/plain": [
              "dtype('O')"
            ]
          },
          "metadata": {},
          "execution_count": 13
        }
      ],
      "source": [
        "f = np.array([(1,23,4), 'Hello', 'Hallo',])\n",
        "f.dtype"
      ]
    },
    {
      "cell_type": "markdown",
      "metadata": {
        "id": "Wu01ZQnJMBdX"
      },
      "source": [
        "### Multiplication of matrices and columns"
      ]
    },
    {
      "cell_type": "code",
      "execution_count": null,
      "metadata": {
        "id": "dPJn58KRMBdX"
      },
      "outputs": [],
      "source": [
        "a = np.array([[1, 0], [0, 1]])\n",
        "b = np.array([[4, 1], [2, 2]])\n",
        "r1 = np.dot(a, b)\n",
        "r2 = a.dot(b)\n",
        "\n",
        "print(\"Matrix A:\\n\", a)\n",
        "print(\"Matrix B:\\n\", b)\n",
        "print(\"The result of multiplication by the function:\\n\", r1)\n",
        "print(\"The result of multiplication by the method:\\n\", r2)"
      ]
    },
    {
      "cell_type": "code",
      "execution_count": null,
      "metadata": {
        "id": "xjwjIm6-MBdX"
      },
      "outputs": [],
      "source": [
        "a@b"
      ]
    },
    {
      "cell_type": "markdown",
      "metadata": {
        "id": "PVx_vSDvMBdX"
      },
      "source": [
        "Matrices in 'NumPy' can also be multiplied by vectors:"
      ]
    },
    {
      "cell_type": "code",
      "execution_count": null,
      "metadata": {
        "id": "BxCVgk0dMBdY"
      },
      "outputs": [],
      "source": [
        "c = np.array([1, 2])\n",
        "r3 = b.dot(c)\n",
        "\n",
        "print(\"Матрица:\\n\", b)\n",
        "print(\"Вектор:\\n\", c)\n",
        "print(\"Результат умножения:\\n\", r3)"
      ]
    },
    {
      "cell_type": "markdown",
      "metadata": {
        "id": "RdeYqoWiMBdY"
      },
      "source": [
        "__Note:__ the __'*'__ operation performs coordinate multiplication on matrices, not matrix multiplication!"
      ]
    },
    {
      "cell_type": "code",
      "execution_count": null,
      "metadata": {
        "scrolled": true,
        "id": "nvCYgiovMBdY"
      },
      "outputs": [],
      "source": [
        "r = a * b\n",
        "\n",
        "print(\"Matrix A:\\n\", a)\n",
        "print(\"Matrix B:\\n\", b)\n",
        "print(\"The result of coordinate multiplication through operator *:\\n\", r)\n",
        "a"
      ]
    },
    {
      "cell_type": "markdown",
      "metadata": {
        "id": "-htBLU2PMBdY"
      },
      "source": [
        "More about matrix multiplication in 'NumPy'\n",
        "see [documentation](http://docs.scipy.org/doc/numpy-1.10.0/reference/routines.linalg.html#matrix-and-vector-products)."
      ]
    }
  ],
  "metadata": {
    "kernelspec": {
      "display_name": "Python 3",
      "language": "python",
      "name": "python3"
    },
    "language_info": {
      "codemirror_mode": {
        "name": "ipython",
        "version": 3
      },
      "file_extension": ".py",
      "mimetype": "text/x-python",
      "name": "python",
      "nbconvert_exporter": "python",
      "pygments_lexer": "ipython3",
      "version": "3.7.4"
    },
    "colab": {
      "name": "inclass_numpy.ipynb",
      "provenance": []
    }
  },
  "nbformat": 4,
  "nbformat_minor": 0
}